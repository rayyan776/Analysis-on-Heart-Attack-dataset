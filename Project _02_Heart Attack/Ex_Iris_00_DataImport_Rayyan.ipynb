{
 "cells": [
  {
   "cell_type": "markdown",
   "id": "83680e84-e2a4-4cd6-a913-e6262fdffe19",
   "metadata": {},
   "source": [
    "# Data Preprocessing"
   ]
  },
  {
   "cell_type": "markdown",
   "id": "3e1e5d00-799f-4898-9ee1-649649282c91",
   "metadata": {},
   "source": [
    "### Libraray Import"
   ]
  },
  {
   "cell_type": "code",
   "execution_count": 22,
   "id": "5c1eaf3a-1b72-40b5-bc4f-7a980ad2d8a8",
   "metadata": {},
   "outputs": [],
   "source": [
    "import pandas as pd\n",
    "import numpy as np"
   ]
  },
  {
   "cell_type": "markdown",
   "id": "11a0ad77-fd9f-4ecd-b4b1-70b5e45d3a9f",
   "metadata": {},
   "source": [
    "### Data Import"
   ]
  },
  {
   "cell_type": "code",
   "execution_count": 10,
   "id": "ac7e41bd-d2c7-4464-b37e-d02fa43a4d81",
   "metadata": {},
   "outputs": [],
   "source": [
    "df=pd.read_csv(\"E:\\\\DS Projects\\\\Project _02_Heart Attack\\\\Data\\\\data.csv\")"
   ]
  },
  {
   "cell_type": "markdown",
   "id": "d41b87a4-02cd-45b8-a8f2-e7fe659b3132",
   "metadata": {},
   "source": [
    "### EDA [Exploratory Data Analysis]"
   ]
  },
  {
   "cell_type": "markdown",
   "id": "c6de3025-5213-4849-8585-e1edb50b3ffe",
   "metadata": {},
   "source": [
    "### Feature Engineering"
   ]
  },
  {
   "cell_type": "markdown",
   "id": "232c6a5c-b71b-489d-95dd-c6391b63d422",
   "metadata": {},
   "source": [
    "### Data Visualization"
   ]
  },
  {
   "cell_type": "markdown",
   "id": "a9c012e7-ef7b-4075-a529-1f92fcb24e77",
   "metadata": {},
   "source": [
    "# Model Building"
   ]
  },
  {
   "cell_type": "markdown",
   "id": "61f23675-111e-40be-8fbb-744f74f59908",
   "metadata": {},
   "source": [
    "### Train Test Split"
   ]
  },
  {
   "cell_type": "markdown",
   "id": "ffa03bfc-c525-44d4-9b4e-cd2721752ca1",
   "metadata": {},
   "source": [
    "### Model Initialization"
   ]
  },
  {
   "cell_type": "markdown",
   "id": "db3124dd-f8da-43a6-8282-dcf7f9d39a05",
   "metadata": {},
   "source": [
    "### Model Training"
   ]
  },
  {
   "cell_type": "markdown",
   "id": "d8ccef7e-fa13-4a22-bc15-474adebd243c",
   "metadata": {},
   "source": [
    "### Hyper Parameter Tuning"
   ]
  },
  {
   "cell_type": "markdown",
   "id": "91bca8c0-a9f4-43dd-9c4a-214a3d3a92cb",
   "metadata": {},
   "source": [
    "# Evaluation and Result"
   ]
  },
  {
   "cell_type": "markdown",
   "id": "c1ff3e88-75c9-4fe4-9bd8-d003e9e24bb6",
   "metadata": {},
   "source": [
    "# Errors"
   ]
  },
  {
   "cell_type": "markdown",
   "id": "cfdddf85-9ada-430d-b6e5-d83273f205d5",
   "metadata": {},
   "source": [
    "## Research"
   ]
  },
  {
   "cell_type": "code",
   "execution_count": 94,
   "id": "66359629-534f-4c67-8b01-619ef06acb72",
   "metadata": {},
   "outputs": [
    {
     "data": {
      "text/plain": [
       "<bound method DataFrame.dropna of      age  sex  cp trestbps chol fbs restecg thalach exang  oldpeak slope ca  \\\n",
       "205   47    1   4      150  226   0       0      98     1      1.5     2  0   \n",
       "\n",
       "    thal  num         \n",
       "205    7           1  >"
      ]
     },
     "execution_count": 94,
     "metadata": {},
     "output_type": "execute_result"
    }
   ],
   "source": [
    "df.dropna(inplace=True)\n",
    "df.dropna"
   ]
  }
 ],
 "metadata": {
  "kernelspec": {
   "display_name": "Python 3 (ipykernel)",
   "language": "python",
   "name": "python3"
  },
  "language_info": {
   "codemirror_mode": {
    "name": "ipython",
    "version": 3
   },
   "file_extension": ".py",
   "mimetype": "text/x-python",
   "name": "python",
   "nbconvert_exporter": "python",
   "pygments_lexer": "ipython3",
   "version": "3.12.4"
  }
 },
 "nbformat": 4,
 "nbformat_minor": 5
}
